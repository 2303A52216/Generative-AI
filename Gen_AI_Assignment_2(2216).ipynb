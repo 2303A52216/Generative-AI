{
  "nbformat": 4,
  "nbformat_minor": 0,
  "metadata": {
    "colab": {
      "provenance": []
    },
    "kernelspec": {
      "name": "python3",
      "display_name": "Python 3"
    },
    "language_info": {
      "name": "python"
    }
  },
  "cells": [
    {
      "cell_type": "markdown",
      "source": [
        "Question 1"
      ],
      "metadata": {
        "id": "mt6seQHjuQcq"
      }
    },
    {
      "cell_type": "code",
      "execution_count": 1,
      "metadata": {
        "colab": {
          "base_uri": "https://localhost:8080/"
        },
        "id": "fZgJtUsbsARU",
        "outputId": "feb0bfde-fdf4-42cc-b678-3d8cd6e6bff5"
      },
      "outputs": [
        {
          "output_type": "stream",
          "name": "stdout",
          "text": [
            "Optimal solution found!\n",
            "Produce 2 units of A\n",
            "Produce 3 units of B\n",
            "Maximum Profit: Rs 27.00\n"
          ]
        }
      ],
      "source": [
        "from scipy.optimize import linprog\n",
        "c = [-6, -5]\n",
        "A = [[1, 1],\n",
        "     [3, 2]]\n",
        "b = [5, 12]\n",
        "bounds = [(0, None), (0, None)]\n",
        "result = linprog(c, A_ub=A, b_ub=b, bounds=bounds, method='highs')\n",
        "\n",
        "if result.success:\n",
        "    print(\"Optimal solution found!\")\n",
        "    print(f\"Produce {result.x[0]:.0f} units of A\")\n",
        "    print(f\"Produce {result.x[1]:.0f} units of B\")\n",
        "    print(f\"Maximum Profit: Rs {-result.fun:.2f}\")\n",
        "else:\n",
        "    print(\"No solution found.\")"
      ]
    },
    {
      "cell_type": "markdown",
      "source": [
        "Question 2"
      ],
      "metadata": {
        "id": "jFlvSFpRuYDE"
      }
    },
    {
      "cell_type": "code",
      "source": [
        "from scipy.optimize import linprog\n",
        "\n",
        "c = [-50, -120]\n",
        "A = [\n",
        "    [1, 1],\n",
        "    [7000, 2000],\n",
        "    [10, 30]]\n",
        "b = [110, 700000, 1200]\n",
        "\n",
        "bounds = [(0, None), (0, None)]\n",
        "\n",
        "result = linprog(c, A_ub=A, b_ub=b, bounds=bounds, method='highs')\n",
        "\n",
        "if result.success:\n",
        "    print(\"Optimal solution found!\")\n",
        "    print(f\"Hectares of Wheat to plant: {result.x[0]:.2f}\")\n",
        "    print(f\"Hectares of Barley to plant: {result.x[1]:.2f}\")\n",
        "    print(f\"Maximum Profit: Rs {-result.fun:.2f}\")\n",
        "else:\n",
        "    print(\"No solution found.\")"
      ],
      "metadata": {
        "colab": {
          "base_uri": "https://localhost:8080/"
        },
        "id": "2ZAU4BxktULU",
        "outputId": "637214a8-c571-4b86-edb7-131177c3e039"
      },
      "execution_count": 2,
      "outputs": [
        {
          "output_type": "stream",
          "name": "stdout",
          "text": [
            "Optimal solution found!\n",
            "Hectares of Wheat to plant: 97.89\n",
            "Hectares of Barley to plant: 7.37\n",
            "Maximum Profit: Rs 5778.95\n"
          ]
        }
      ]
    }
  ]
}